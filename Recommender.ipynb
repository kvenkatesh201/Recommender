{
 "cells": [
  {
   "cell_type": "code",
   "execution_count": 1,
   "metadata": {
    "collapsed": true
   },
   "outputs": [],
   "source": [
    "import pandas as pd\n",
    "import numpy as np"
   ]
  },
  {
   "cell_type": "code",
   "execution_count": 2,
   "metadata": {
    "collapsed": true
   },
   "outputs": [],
   "source": [
    "M = pd.read_csv('Movie Reviews - Sheet1.csv', index_col='Name')"
   ]
  },
  {
   "cell_type": "code",
   "execution_count": 3,
   "metadata": {
    "collapsed": true
   },
   "outputs": [],
   "source": [
    "def pearson(s1, s2):\n",
    "    \"\"\"Take two pd.Series objects and return a pearson correlation.\"\"\"\n",
    "    s1_c = s1 - s1.mean()\n",
    "    s2_c = s2 - s2.mean()\n",
    "    return np.sum(s1_c * s2_c) / np.sqrt(np.sum(s1_c ** 2) * np.sum(s2_c ** 2))"
   ]
  },
  {
   "cell_type": "code",
   "execution_count": 4,
   "metadata": {
    "collapsed": true
   },
   "outputs": [],
   "source": [
    "def get_recs(movie_name, M, num):\n",
    "\n",
    "    import numpy as np\n",
    "    reviews = []\n",
    "    for title in M.columns:\n",
    "        if title == movie_name:\n",
    "            continue\n",
    "        cor = pearson(M[movie_name], M[title])\n",
    "        if np.isnan(cor):\n",
    "            continue\n",
    "        else:\n",
    "            reviews.append((title, cor))\n",
    "    \n",
    "    reviews.sort(key=lambda tup: tup[1], reverse=True)\n",
    "    return reviews[:num]\n",
    "\n",
    "    "
   ]
  },
  {
   "cell_type": "code",
   "execution_count": 7,
   "metadata": {
    "collapsed": false
   },
   "outputs": [],
   "source": [
    "#Question 1:  What movie is most Similar to 'The fault in our stars' (60 pts)\n"
   ]
  },
  {
   "cell_type": "code",
   "execution_count": 8,
   "metadata": {
    "collapsed": false
   },
   "outputs": [
    {
     "data": {
      "text/plain": [
       "[('How to Train your Dragon 2', 0.3528496583218998),\n",
       " ('Malificent', 0.28298128549177481)]"
      ]
     },
     "execution_count": 8,
     "metadata": {},
     "output_type": "execute_result"
    }
   ],
   "source": [
    "recs = get_recs('The Fault in Our Stars', M, 10)\n",
    "recs[:2]"
   ]
  },
  {
   "cell_type": "code",
   "execution_count": 9,
   "metadata": {
    "collapsed": true
   },
   "outputs": [],
   "source": [
    "#Question 2:  Which movie(s) would you most like to see, based on your classmates experience? (40 pts)"
   ]
  },
  {
   "cell_type": "code",
   "execution_count": 10,
   "metadata": {
    "collapsed": true
   },
   "outputs": [],
   "source": [
    "#HINTS...\n",
    "\n",
    "#the movies I've seen\n",
    "my_ratings = M.ix['Venkatesh Komma'].dropna()\n",
    "#the movie I've rated the highest\n",
    "my_ratings.sort(ascending=False)\n",
    "#the name of the movie I've rated the highest\n",
    "fav_movie = my_ratings.index[0]"
   ]
  },
  {
   "cell_type": "code",
   "execution_count": 11,
   "metadata": {
    "collapsed": false
   },
   "outputs": [
    {
     "data": {
      "text/plain": [
       "'300: Rise of an Empire'"
      ]
     },
     "execution_count": 11,
     "metadata": {},
     "output_type": "execute_result"
    }
   ],
   "source": [
    "fav_movie"
   ]
  },
  {
   "cell_type": "code",
   "execution_count": 12,
   "metadata": {
    "collapsed": false
   },
   "outputs": [
    {
     "data": {
      "text/plain": [
       "300: Rise of an Empire        5\n",
       "The Fault in Our Stars        5\n",
       "Divergent                     5\n",
       "Interstellar                  5\n",
       "The Hobbit                    5\n",
       "Unbroken                      4\n",
       "Gone Girl                     4\n",
       "How to Train your Dragon 2    4\n",
       "Godzilla                      4\n",
       "Malificent                    4\n",
       "Guardians of the Galaxy       4\n",
       "Big Hero 6                    3\n",
       "Name: Venkatesh Komma, dtype: float64"
      ]
     },
     "execution_count": 12,
     "metadata": {},
     "output_type": "execute_result"
    }
   ],
   "source": [
    "my_ratings"
   ]
  },
  {
   "cell_type": "code",
   "execution_count": 13,
   "metadata": {
    "collapsed": true
   },
   "outputs": [],
   "source": [
    "recs = get_recs(fav_movie, M, 5)"
   ]
  },
  {
   "cell_type": "code",
   "execution_count": 14,
   "metadata": {
    "collapsed": false
   },
   "outputs": [
    {
     "data": {
      "text/plain": [
       "[('American Sniper', 0.32158125118541492),\n",
       " ('Gone Girl', 0.18306956528130916),\n",
       " ('Divergent', 0.14668168473283816),\n",
       " ('The Hobbit', 0.12990595330815857),\n",
       " ('How to Train your Dragon 2', 0.12314023043520408)]"
      ]
     },
     "execution_count": 14,
     "metadata": {},
     "output_type": "execute_result"
    }
   ],
   "source": [
    "recs[:5]"
   ]
  },
  {
   "cell_type": "code",
   "execution_count": 15,
   "metadata": {
    "collapsed": true
   },
   "outputs": [],
   "source": [
    "#Question 3: Bonus Question...  For all the movies you haven't seen, can you predict how you'd rate them using your the class reviews? (10 pts)"
   ]
  },
  {
   "cell_type": "code",
   "execution_count": 16,
   "metadata": {
    "collapsed": true
   },
   "outputs": [],
   "source": [
    "not_rated = M.ix['Venkatesh Komma']\n",
    "not_rated.sort()\n",
    "for i in range(0, not_rated.count(), 1):\n",
    "    not_rated.drop(not_rated.index[0], inplace=True)"
   ]
  },
  {
   "cell_type": "code",
   "execution_count": 17,
   "metadata": {
    "collapsed": false
   },
   "outputs": [
    {
     "data": {
      "text/plain": [
       "American Sniper                         NaN\n",
       "The Hunger Games: Mockingjay - Part 1   NaN\n",
       "The Lego Movie                          NaN\n",
       "Transformers                            NaN\n",
       "Name: Venkatesh Komma, dtype: float64"
      ]
     },
     "execution_count": 17,
     "metadata": {},
     "output_type": "execute_result"
    }
   ],
   "source": [
    "not_rated"
   ]
  },
  {
   "cell_type": "code",
   "execution_count": 22,
   "metadata": {
    "collapsed": false
   },
   "outputs": [
    {
     "name": "stdout",
     "output_type": "stream",
     "text": [
      "Pearson Correlation coefficient of :\n",
      "(Venkatesh Komma , Mike) : -0.243599382882\n",
      "(Venkatesh Komma , HJ SONG) : 0.167196739361\n",
      "(Venkatesh Komma , Ryan Hansen) : 0.13842325575\n",
      "(Venkatesh Komma , Olumuyiwa Durojaiye) : -0.376455078995\n",
      "(Venkatesh Komma , Charlie) : 0.0542259695224\n",
      "(Venkatesh Komma , Sina Tuy) : -0.289755706885\n",
      "(Venkatesh Komma , Pavithra Shetty) : -0.1163105263\n",
      "(Venkatesh Komma , Sara Collins) : 0.0629940788349\n",
      "(Venkatesh Komma , Jonathan Doll) : 0.165985000552\n",
      "(Venkatesh Komma , saikiran reddy) : -0.198107212938\n",
      "(Venkatesh Komma , Aishwarya reddy) : 1.18952466924e-16\n",
      "(Venkatesh Komma , Brant Mullinix) : 0.441979999939\n",
      "(Venkatesh Komma , Sai Sampath) : 1.18952466924e-16\n",
      "(Venkatesh Komma , Suyendra) : 0.358948497967\n",
      "(Venkatesh Komma , Sai Yallapragada) : 0.270030862434\n",
      "(Venkatesh Komma , Akhilesh) : 0.450090027009\n",
      "(Venkatesh Komma , Sundar Prasad) : -0.0629940788349\n",
      "(Venkatesh Komma , Evan Piercy) : 0.0845154254729\n",
      "(Venkatesh Komma , Jessica Fong) : 0.394405318873\n",
      "(Venkatesh Komma , Onsiri Tapsarn) : nan\n",
      "(Venkatesh Komma , Anirudh Thota) : 0.172516389836\n",
      "(Venkatesh Komma , Greg Werner) : 0.125472866522\n",
      "(Venkatesh Komma , Violeta Lee Fay) : -0.237565548367\n",
      "(Venkatesh Komma , Aditya Dharmasagar) : 0.0890870806375\n",
      "(Venkatesh Komma , Manideep Maddipatla) : 0.194022647247\n",
      "(Venkatesh Komma , Maheshwar Reddy) : 0.245495126515\n",
      "(Venkatesh Komma , siddanth sudarshan) : 0.00808769310103\n",
      "(Venkatesh Komma , anurag) : -0.0935816541791\n",
      "(Venkatesh Komma , Ahmed Muheebuddin) : -0.218217890236\n",
      "(Venkatesh Komma , azam) : 0.327326835354\n",
      "(Venkatesh Komma , Aswini kumar) : -0.103098262355\n",
      "(Venkatesh Komma , M A Nissar) : -0.439155032827\n",
      "(Venkatesh Komma , Yinka Adeyemo) : nan\n",
      "(Venkatesh Komma , Thomas Podlipni) : -0.0742392338646\n",
      "(Venkatesh Komma , Bradley Brubaker) : -0.154303349962\n",
      "(Venkatesh Komma , Harish Kallianpur) : 0.0\n",
      "(Venkatesh Komma , J A Barnes) : 0.0\n",
      "(Venkatesh Komma , Jared Knowles) : -0.0563436169819\n",
      "(Venkatesh Komma , veerendra battula) : 0.236623716922\n",
      "(Venkatesh Komma , Trudy Kline) : -0.101574900037\n",
      "(Venkatesh Komma , Rajesh Kinkirla) : 0.149786172379\n",
      "(Venkatesh Komma , Syed Farzan) : 0.368855556782\n",
      "(Venkatesh Komma , Syed Abbas Hussaini) : -0.130120009726\n",
      "(Venkatesh Komma , Arun Vedere) : 0.436435780472\n",
      "(Venkatesh Komma , Venkatesh Komma) : 1.0\n",
      "(Venkatesh Komma , Graham Bullard) : -0.121780575112\n",
      "(Venkatesh Komma , solomon choppara) : 0.178174161275\n",
      "(Venkatesh Komma , Susan Huang) : 0.0697863157799\n",
      "(Venkatesh Komma , Aarti Jaiswal) : -0.436435780472\n",
      "(Venkatesh Komma , James Goodpasture) : -0.107142857143\n",
      "(Venkatesh Komma , Michael Cooper) : -0.109108945118\n",
      "(Venkatesh Komma , Bhuvana Posina) : 0.171597187223\n",
      "(Venkatesh Komma , David Huang) : 0.35634832255\n",
      "(Venkatesh Komma , Shiva rama raju Chekuri) : 0.0671519136688\n",
      "(Venkatesh Komma , Andrew Webb) : -0.393422182304\n",
      "(Venkatesh Komma , ugesh reddy challa) : 0.354777185843\n"
     ]
    }
   ],
   "source": [
    "print \"Pearson Correlation coefficient of :\"\n",
    "a= []\n",
    "for i in range(0, 56, 1): \n",
    "    cor=pearson(M.ix[44], M.ix[i])\n",
    "    print \"(\" + M.index[44] + \" , \" + M.index[i] + \") :\", cor  \n",
    "    a.append(cor)"
   ]
  },
  {
   "cell_type": "code",
   "execution_count": 23,
   "metadata": {
    "collapsed": true
   },
   "outputs": [],
   "source": [
    "def pred_rate(x, a):\n",
    "    \"\"\"\n",
    "    Takes two parameters 'x' and 'a'. \n",
    "    Where 'x' a list of rates given by classmates. \n",
    "    'a' is a array that has corresponding pearson correlation coefficientreturn (weights for the given rates).\n",
    "    predicted rate is calculated as rate= (x[0]*a[0] + x[1]*a[1] +...+x[i]*a[i]) / (a[0]+a[1]+..+a[i]) \n",
    "    returns predicted rate \n",
    "    \"\"\"\n",
    "    j=0\n",
    "    k=0\n",
    "    for i in range(0, 56, 1): \n",
    "        if x.irow(i)>0 and a[i]>0: \n",
    "            j= j+(a[i]*x.irow(i))\n",
    "            k= k+a[i]\n",
    "        else:\n",
    "            continue\n",
    "    return j/k"
   ]
  },
  {
   "cell_type": "code",
   "execution_count": 25,
   "metadata": {
    "collapsed": false
   },
   "outputs": [
    {
     "name": "stdout",
     "output_type": "stream",
     "text": [
      "The rating for the unwatched movies]:\n",
      "American Sniper:  4.3\n",
      "The Hunger Games: Mockingjay - Part 1:  3.2\n",
      "The Lego Movie:  3.0\n",
      "Transformers:  3.6\n"
     ]
    }
   ],
   "source": [
    "print \"The rating for the unwatched movies]:\"\n",
    "for i in range(0, 4, 1): \n",
    "    x=M[not_rated.index[i]]\n",
    "    rate=pred_rate(x, a)\n",
    "    print not_rated.index[i] +\": \", rate.round(1)"
   ]
  },
  {
   "cell_type": "code",
   "execution_count": null,
   "metadata": {
    "collapsed": true
   },
   "outputs": [],
   "source": []
  }
 ],
 "metadata": {
  "kernelspec": {
   "display_name": "Python 2",
   "language": "python",
   "name": "python2"
  },
  "language_info": {
   "codemirror_mode": {
    "name": "ipython",
    "version": 2
   },
   "file_extension": ".py",
   "mimetype": "text/x-python",
   "name": "python",
   "nbconvert_exporter": "python",
   "pygments_lexer": "ipython2",
   "version": "2.7.10"
  }
 },
 "nbformat": 4,
 "nbformat_minor": 0
}
